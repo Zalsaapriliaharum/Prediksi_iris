{
  "cells": [
    {
      "cell_type": "markdown",
      "metadata": {
        "id": "7dnuNpwJkN1h"
      },
      "source": [
        "# SOAL UAS"
      ]
    },
    {
      "cell_type": "markdown",
      "metadata": {
        "id": "bxlqzSrL5ium"
      },
      "source": [
        "NIM : 2019230079\n",
        "    \n",
        "Nama : Zalsa Aprilia Harum    "
      ]
    },
    {
      "cell_type": "markdown",
      "metadata": {
        "id": "wgRfUxh232lI"
      },
      "source": [
        "### Soal :\n",
        "\n",
        "- Download dataset iris.csv di salah satu public dataset : keggle, UCI, dsbnya\n",
        "- Gunakan Dataset : iris.cvs, pilih satu algoritma yang terbaik berdasarkan evaluasi, simpan menggunakan pickle, siapkan app py, deploy dengan streamlit dan upload ke server stremlit"
      ]
    },
    {
      "cell_type": "code",
      "source": [
        "from google.colab import drive\n",
        "drive.mount('/content/drive')"
      ],
      "metadata": {
        "colab": {
          "base_uri": "https://localhost:8080/"
        },
        "id": "lwMFNatk0tZ9",
        "outputId": "ed890e1d-2a1d-4a93-d1f0-7966a017fba6"
      },
      "execution_count": 2,
      "outputs": [
        {
          "output_type": "stream",
          "name": "stdout",
          "text": [
            "Mounted at /content/drive\n"
          ]
        }
      ]
    },
    {
      "cell_type": "code",
      "execution_count": 3,
      "metadata": {
        "id": "ml9bZhgw5iun",
        "outputId": "5bad6630-d298-4a84-e7e0-d832e68a59f1",
        "scrolled": false,
        "colab": {
          "base_uri": "https://localhost:8080/",
          "height": 423
        }
      },
      "outputs": [
        {
          "output_type": "execute_result",
          "data": {
            "text/plain": [
              "      Id  SepalLengthCm  SepalWidthCm  PetalLengthCm  PetalWidthCm  \\\n",
              "0      1            5.1           3.5            1.4           0.2   \n",
              "1      2            4.9           3.0            1.4           0.2   \n",
              "2      3            4.7           3.2            1.3           0.2   \n",
              "3      4            4.6           3.1            1.5           0.2   \n",
              "4      5            5.0           3.6            1.4           0.2   \n",
              "..   ...            ...           ...            ...           ...   \n",
              "145  146            6.7           3.0            5.2           2.3   \n",
              "146  147            6.3           2.5            5.0           1.9   \n",
              "147  148            6.5           3.0            5.2           2.0   \n",
              "148  149            6.2           3.4            5.4           2.3   \n",
              "149  150            5.9           3.0            5.1           1.8   \n",
              "\n",
              "            Species  \n",
              "0       Iris-setosa  \n",
              "1       Iris-setosa  \n",
              "2       Iris-setosa  \n",
              "3       Iris-setosa  \n",
              "4       Iris-setosa  \n",
              "..              ...  \n",
              "145  Iris-virginica  \n",
              "146  Iris-virginica  \n",
              "147  Iris-virginica  \n",
              "148  Iris-virginica  \n",
              "149  Iris-virginica  \n",
              "\n",
              "[150 rows x 6 columns]"
            ],
            "text/html": [
              "\n",
              "  <div id=\"df-7f784a74-c80d-4201-a775-53918d1880cd\">\n",
              "    <div class=\"colab-df-container\">\n",
              "      <div>\n",
              "<style scoped>\n",
              "    .dataframe tbody tr th:only-of-type {\n",
              "        vertical-align: middle;\n",
              "    }\n",
              "\n",
              "    .dataframe tbody tr th {\n",
              "        vertical-align: top;\n",
              "    }\n",
              "\n",
              "    .dataframe thead th {\n",
              "        text-align: right;\n",
              "    }\n",
              "</style>\n",
              "<table border=\"1\" class=\"dataframe\">\n",
              "  <thead>\n",
              "    <tr style=\"text-align: right;\">\n",
              "      <th></th>\n",
              "      <th>Id</th>\n",
              "      <th>SepalLengthCm</th>\n",
              "      <th>SepalWidthCm</th>\n",
              "      <th>PetalLengthCm</th>\n",
              "      <th>PetalWidthCm</th>\n",
              "      <th>Species</th>\n",
              "    </tr>\n",
              "  </thead>\n",
              "  <tbody>\n",
              "    <tr>\n",
              "      <th>0</th>\n",
              "      <td>1</td>\n",
              "      <td>5.1</td>\n",
              "      <td>3.5</td>\n",
              "      <td>1.4</td>\n",
              "      <td>0.2</td>\n",
              "      <td>Iris-setosa</td>\n",
              "    </tr>\n",
              "    <tr>\n",
              "      <th>1</th>\n",
              "      <td>2</td>\n",
              "      <td>4.9</td>\n",
              "      <td>3.0</td>\n",
              "      <td>1.4</td>\n",
              "      <td>0.2</td>\n",
              "      <td>Iris-setosa</td>\n",
              "    </tr>\n",
              "    <tr>\n",
              "      <th>2</th>\n",
              "      <td>3</td>\n",
              "      <td>4.7</td>\n",
              "      <td>3.2</td>\n",
              "      <td>1.3</td>\n",
              "      <td>0.2</td>\n",
              "      <td>Iris-setosa</td>\n",
              "    </tr>\n",
              "    <tr>\n",
              "      <th>3</th>\n",
              "      <td>4</td>\n",
              "      <td>4.6</td>\n",
              "      <td>3.1</td>\n",
              "      <td>1.5</td>\n",
              "      <td>0.2</td>\n",
              "      <td>Iris-setosa</td>\n",
              "    </tr>\n",
              "    <tr>\n",
              "      <th>4</th>\n",
              "      <td>5</td>\n",
              "      <td>5.0</td>\n",
              "      <td>3.6</td>\n",
              "      <td>1.4</td>\n",
              "      <td>0.2</td>\n",
              "      <td>Iris-setosa</td>\n",
              "    </tr>\n",
              "    <tr>\n",
              "      <th>...</th>\n",
              "      <td>...</td>\n",
              "      <td>...</td>\n",
              "      <td>...</td>\n",
              "      <td>...</td>\n",
              "      <td>...</td>\n",
              "      <td>...</td>\n",
              "    </tr>\n",
              "    <tr>\n",
              "      <th>145</th>\n",
              "      <td>146</td>\n",
              "      <td>6.7</td>\n",
              "      <td>3.0</td>\n",
              "      <td>5.2</td>\n",
              "      <td>2.3</td>\n",
              "      <td>Iris-virginica</td>\n",
              "    </tr>\n",
              "    <tr>\n",
              "      <th>146</th>\n",
              "      <td>147</td>\n",
              "      <td>6.3</td>\n",
              "      <td>2.5</td>\n",
              "      <td>5.0</td>\n",
              "      <td>1.9</td>\n",
              "      <td>Iris-virginica</td>\n",
              "    </tr>\n",
              "    <tr>\n",
              "      <th>147</th>\n",
              "      <td>148</td>\n",
              "      <td>6.5</td>\n",
              "      <td>3.0</td>\n",
              "      <td>5.2</td>\n",
              "      <td>2.0</td>\n",
              "      <td>Iris-virginica</td>\n",
              "    </tr>\n",
              "    <tr>\n",
              "      <th>148</th>\n",
              "      <td>149</td>\n",
              "      <td>6.2</td>\n",
              "      <td>3.4</td>\n",
              "      <td>5.4</td>\n",
              "      <td>2.3</td>\n",
              "      <td>Iris-virginica</td>\n",
              "    </tr>\n",
              "    <tr>\n",
              "      <th>149</th>\n",
              "      <td>150</td>\n",
              "      <td>5.9</td>\n",
              "      <td>3.0</td>\n",
              "      <td>5.1</td>\n",
              "      <td>1.8</td>\n",
              "      <td>Iris-virginica</td>\n",
              "    </tr>\n",
              "  </tbody>\n",
              "</table>\n",
              "<p>150 rows × 6 columns</p>\n",
              "</div>\n",
              "      <button class=\"colab-df-convert\" onclick=\"convertToInteractive('df-7f784a74-c80d-4201-a775-53918d1880cd')\"\n",
              "              title=\"Convert this dataframe to an interactive table.\"\n",
              "              style=\"display:none;\">\n",
              "        \n",
              "  <svg xmlns=\"http://www.w3.org/2000/svg\" height=\"24px\"viewBox=\"0 0 24 24\"\n",
              "       width=\"24px\">\n",
              "    <path d=\"M0 0h24v24H0V0z\" fill=\"none\"/>\n",
              "    <path d=\"M18.56 5.44l.94 2.06.94-2.06 2.06-.94-2.06-.94-.94-2.06-.94 2.06-2.06.94zm-11 1L8.5 8.5l.94-2.06 2.06-.94-2.06-.94L8.5 2.5l-.94 2.06-2.06.94zm10 10l.94 2.06.94-2.06 2.06-.94-2.06-.94-.94-2.06-.94 2.06-2.06.94z\"/><path d=\"M17.41 7.96l-1.37-1.37c-.4-.4-.92-.59-1.43-.59-.52 0-1.04.2-1.43.59L10.3 9.45l-7.72 7.72c-.78.78-.78 2.05 0 2.83L4 21.41c.39.39.9.59 1.41.59.51 0 1.02-.2 1.41-.59l7.78-7.78 2.81-2.81c.8-.78.8-2.07 0-2.86zM5.41 20L4 18.59l7.72-7.72 1.47 1.35L5.41 20z\"/>\n",
              "  </svg>\n",
              "      </button>\n",
              "      \n",
              "  <style>\n",
              "    .colab-df-container {\n",
              "      display:flex;\n",
              "      flex-wrap:wrap;\n",
              "      gap: 12px;\n",
              "    }\n",
              "\n",
              "    .colab-df-convert {\n",
              "      background-color: #E8F0FE;\n",
              "      border: none;\n",
              "      border-radius: 50%;\n",
              "      cursor: pointer;\n",
              "      display: none;\n",
              "      fill: #1967D2;\n",
              "      height: 32px;\n",
              "      padding: 0 0 0 0;\n",
              "      width: 32px;\n",
              "    }\n",
              "\n",
              "    .colab-df-convert:hover {\n",
              "      background-color: #E2EBFA;\n",
              "      box-shadow: 0px 1px 2px rgba(60, 64, 67, 0.3), 0px 1px 3px 1px rgba(60, 64, 67, 0.15);\n",
              "      fill: #174EA6;\n",
              "    }\n",
              "\n",
              "    [theme=dark] .colab-df-convert {\n",
              "      background-color: #3B4455;\n",
              "      fill: #D2E3FC;\n",
              "    }\n",
              "\n",
              "    [theme=dark] .colab-df-convert:hover {\n",
              "      background-color: #434B5C;\n",
              "      box-shadow: 0px 1px 3px 1px rgba(0, 0, 0, 0.15);\n",
              "      filter: drop-shadow(0px 1px 2px rgba(0, 0, 0, 0.3));\n",
              "      fill: #FFFFFF;\n",
              "    }\n",
              "  </style>\n",
              "\n",
              "      <script>\n",
              "        const buttonEl =\n",
              "          document.querySelector('#df-7f784a74-c80d-4201-a775-53918d1880cd button.colab-df-convert');\n",
              "        buttonEl.style.display =\n",
              "          google.colab.kernel.accessAllowed ? 'block' : 'none';\n",
              "\n",
              "        async function convertToInteractive(key) {\n",
              "          const element = document.querySelector('#df-7f784a74-c80d-4201-a775-53918d1880cd');\n",
              "          const dataTable =\n",
              "            await google.colab.kernel.invokeFunction('convertToInteractive',\n",
              "                                                     [key], {});\n",
              "          if (!dataTable) return;\n",
              "\n",
              "          const docLinkHtml = 'Like what you see? Visit the ' +\n",
              "            '<a target=\"_blank\" href=https://colab.research.google.com/notebooks/data_table.ipynb>data table notebook</a>'\n",
              "            + ' to learn more about interactive tables.';\n",
              "          element.innerHTML = '';\n",
              "          dataTable['output_type'] = 'display_data';\n",
              "          await google.colab.output.renderOutput(dataTable, element);\n",
              "          const docLink = document.createElement('div');\n",
              "          docLink.innerHTML = docLinkHtml;\n",
              "          element.appendChild(docLink);\n",
              "        }\n",
              "      </script>\n",
              "    </div>\n",
              "  </div>\n",
              "  "
            ]
          },
          "metadata": {},
          "execution_count": 3
        }
      ],
      "source": [
        "import pandas as pd\n",
        "from sklearn import datasets\n",
        "\n",
        "df_klasifikasi=pd.read_csv(\"/content/drive/MyDrive/Prediksi Iris/Iris.csv\")\n",
        "df_klasifikasi"
      ]
    },
    {
      "cell_type": "code",
      "execution_count": 4,
      "metadata": {
        "id": "P4NxnhOd5iuq",
        "outputId": "33d0093d-7bbe-43aa-ae66-9e9f28d3372a",
        "scrolled": false,
        "colab": {
          "base_uri": "https://localhost:8080/"
        }
      },
      "outputs": [
        {
          "output_type": "stream",
          "name": "stdout",
          "text": [
            "     SepalLengthCm  SepalWidthCm  PetalLengthCm  PetalWidthCm\n",
            "0              5.1           3.5            1.4           0.2\n",
            "1              4.9           3.0            1.4           0.2\n",
            "2              4.7           3.2            1.3           0.2\n",
            "3              4.6           3.1            1.5           0.2\n",
            "4              5.0           3.6            1.4           0.2\n",
            "..             ...           ...            ...           ...\n",
            "145            6.7           3.0            5.2           2.3\n",
            "146            6.3           2.5            5.0           1.9\n",
            "147            6.5           3.0            5.2           2.0\n",
            "148            6.2           3.4            5.4           2.3\n",
            "149            5.9           3.0            5.1           1.8\n",
            "\n",
            "[150 rows x 4 columns]\n",
            "0         Iris-setosa\n",
            "1         Iris-setosa\n",
            "2         Iris-setosa\n",
            "3         Iris-setosa\n",
            "4         Iris-setosa\n",
            "            ...      \n",
            "145    Iris-virginica\n",
            "146    Iris-virginica\n",
            "147    Iris-virginica\n",
            "148    Iris-virginica\n",
            "149    Iris-virginica\n",
            "Name: Species, Length: 150, dtype: object\n"
          ]
        }
      ],
      "source": [
        "#Feature selection\n",
        "X=df_klasifikasi[['SepalLengthCm','SepalWidthCm','PetalLengthCm','PetalWidthCm']]\n",
        "\n",
        "#Target\n",
        "y=df_klasifikasi['Species']\n",
        "print(X)\n",
        "print(y)"
      ]
    },
    {
      "cell_type": "markdown",
      "metadata": {
        "id": "zV1Bz1a_5iuq"
      },
      "source": [
        "## Normalize Data - Scalling"
      ]
    },
    {
      "cell_type": "code",
      "execution_count": 5,
      "metadata": {
        "id": "LqCo7MpT5iur",
        "scrolled": false
      },
      "outputs": [],
      "source": [
        "from sklearn import preprocessing\n",
        "X = preprocessing.StandardScaler().fit(X).transform(X.astype(float))"
      ]
    },
    {
      "cell_type": "code",
      "execution_count": 6,
      "metadata": {
        "colab": {
          "base_uri": "https://localhost:8080/"
        },
        "id": "ruIXSP8ykYJt",
        "outputId": "edf6936d-57b6-4bf0-abf8-c6a79388ac61"
      },
      "outputs": [
        {
          "output_type": "stream",
          "name": "stdout",
          "text": [
            "10 data pertama: \n",
            "[[-0.90068117  1.03205722 -1.3412724  -1.31297673]\n",
            " [-1.14301691 -0.1249576  -1.3412724  -1.31297673]\n",
            " [-1.38535265  0.33784833 -1.39813811 -1.31297673]\n",
            " [-1.50652052  0.10644536 -1.2844067  -1.31297673]\n",
            " [-1.02184904  1.26346019 -1.3412724  -1.31297673]\n",
            " [-0.53717756  1.95766909 -1.17067529 -1.05003079]\n",
            " [-1.50652052  0.80065426 -1.3412724  -1.18150376]\n",
            " [-1.02184904  0.80065426 -1.2844067  -1.31297673]\n",
            " [-1.74885626 -0.35636057 -1.3412724  -1.31297673]\n",
            " [-1.14301691  0.10644536 -1.2844067  -1.4444497 ]]\n"
          ]
        }
      ],
      "source": [
        "print(\"10 data pertama: \")\n",
        "print(X[:10])"
      ]
    },
    {
      "cell_type": "code",
      "execution_count": 7,
      "metadata": {
        "colab": {
          "base_uri": "https://localhost:8080/"
        },
        "id": "BJywTnXpkfjR",
        "outputId": "d45b2bd7-dfe2-4e42-fdb7-6fbedf93839c"
      },
      "outputs": [
        {
          "output_type": "stream",
          "name": "stdout",
          "text": [
            "10 label pertama: \n",
            "0    Iris-setosa\n",
            "1    Iris-setosa\n",
            "2    Iris-setosa\n",
            "3    Iris-setosa\n",
            "4    Iris-setosa\n",
            "5    Iris-setosa\n",
            "6    Iris-setosa\n",
            "7    Iris-setosa\n",
            "8    Iris-setosa\n",
            "9    Iris-setosa\n",
            "Name: Species, dtype: object\n"
          ]
        }
      ],
      "source": [
        "print(\"10 label pertama: \")\n",
        "print(y[:10])"
      ]
    },
    {
      "cell_type": "markdown",
      "metadata": {
        "id": "Rr2eFJIGjuJp"
      },
      "source": [
        "# 1. Pembagian Data"
      ]
    },
    {
      "cell_type": "markdown",
      "metadata": {
        "id": "m2USj2Abj16s"
      },
      "source": [
        "## 1.1 Train-Validation Split\n"
      ]
    },
    {
      "cell_type": "markdown",
      "metadata": {
        "id": "eibAAHs24-Y5"
      },
      "source": [
        "Train-Validation split dapat dilakukan dengan menjalankan potongan kode di bawah. Persentase pembagian data training dan data validasi dapat ditentukan dengan mengubah nilai parameter train_size."
      ]
    },
    {
      "cell_type": "code",
      "execution_count": 8,
      "metadata": {
        "id": "k2waL8KngWjk"
      },
      "outputs": [],
      "source": [
        "from sklearn.model_selection import train_test_split\n",
        "\n",
        "X_train, X_test, y_train, y_test = train_test_split(X, y, train_size = 0.7)"
      ]
    },
    {
      "cell_type": "code",
      "execution_count": 9,
      "metadata": {
        "colab": {
          "base_uri": "https://localhost:8080/"
        },
        "id": "t99AAWb1kuNn",
        "outputId": "d525a299-643d-4952-f368-333a4fe8a1d3",
        "scrolled": true
      },
      "outputs": [
        {
          "output_type": "stream",
          "name": "stdout",
          "text": [
            "Banyak data latih setelah dilakukan Train-Validation Split:  105\n",
            "Banyak data uji setelah dilakukan Train-Validation Split:  45\n"
          ]
        }
      ],
      "source": [
        "print(\"Banyak data latih setelah dilakukan Train-Validation Split: \", len(X_train))\n",
        "print(\"Banyak data uji setelah dilakukan Train-Validation Split: \", len(X_test))"
      ]
    },
    {
      "cell_type": "code",
      "execution_count": 10,
      "metadata": {
        "id": "of5srzkM5iuv",
        "outputId": "e14861d7-6cd0-4375-fee3-d351e88f183c",
        "colab": {
          "base_uri": "https://localhost:8080/"
        }
      },
      "outputs": [
        {
          "output_type": "stream",
          "name": "stdout",
          "text": [
            "Label Training\n",
            " Iris-virginica     38\n",
            "Iris-versicolor    34\n",
            "Iris-setosa        33\n",
            "Name: Species, dtype: int64\n",
            "\n",
            "Label Prediksi\n",
            " Iris-setosa        17\n",
            "Iris-versicolor    16\n",
            "Iris-virginica     12\n",
            "Name: Species, dtype: int64\n"
          ]
        }
      ],
      "source": [
        "print(\"Label Training\\n\",y_train.value_counts())\n",
        "print(\"\\nLabel Prediksi\\n\",y_test.value_counts())"
      ]
    },
    {
      "cell_type": "markdown",
      "metadata": {
        "id": "e97uWkTgkNCZ"
      },
      "source": [
        "## 1.2\tK-Fold Cross Validation"
      ]
    },
    {
      "cell_type": "markdown",
      "metadata": {
        "id": "kQDyTsDy5NzG"
      },
      "source": [
        "Pustaka Scikit-learn menyediakan wrapper untuk melakukan K-Fold Cross Validation, yaitu dengan meng-import cross_val_score. cross_val_score menerima input berupa model machine learning, data training, label training, dan nilai K. Output yang dikeluarkan akan berupa list berisi akurasi setiap fold, sehingga untuk mendapatkan nilai rata-rata akurasi dari setiap foldnya, dapat menggunakan built-in function mean()."
      ]
    },
    {
      "cell_type": "code",
      "execution_count": 11,
      "metadata": {
        "colab": {
          "base_uri": "https://localhost:8080/"
        },
        "id": "llXBIUEXlO_Q",
        "outputId": "0d977fba-7b82-4509-8a1c-74c07cfe5fb6"
      },
      "outputs": [
        {
          "output_type": "stream",
          "name": "stdout",
          "text": [
            "Akurasi model SVM untuk tiap fold:  [0.96666667 1.         0.93333333 0.93333333 1.        ]\n",
            "Akurasi model SVM dengan 5-Fold Cross Validation:  0.9666666666666668\n"
          ]
        }
      ],
      "source": [
        "from sklearn.model_selection import cross_val_score\n",
        "from sklearn.svm import SVC\n",
        "\n",
        "model = SVC(kernel = 'linear', C = 1)\n",
        "scores = cross_val_score(model, X, y, cv = 5)\n",
        "print(\"Akurasi model SVM untuk tiap fold: \", scores)\n",
        "print(\"Akurasi model SVM dengan 5-Fold Cross Validation: \", scores.mean())\n",
        "\n",
        "# y_pred = lr.predict(X_test)\n",
        "# score = metrics.accuracy_score(y_test, y_pred)\n",
        "# print(\"Akurasi dengan menggunakan Logistic Regression: \", score)\n",
        "# from sklearn.metrics import precision_recall_fscore_support\n",
        "# P=precision_recall_fscore_support(y_test, y_pred, average='macro')\n",
        "# print(\"Precison : \",P[0])\n",
        "# print(\"Recall : \",P[1])\n",
        "# print(\"F Score : \",P[2])"
      ]
    },
    {
      "cell_type": "markdown",
      "metadata": {
        "id": "f4iVDE6MmXnE"
      },
      "source": [
        "# 2. Metode Klasifikasi"
      ]
    },
    {
      "cell_type": "markdown",
      "metadata": {
        "id": "SXRI3WsT78mh"
      },
      "source": [
        "Untuk potongan-potongan kode Metode Klasifikasi, data yang akan digunakan adalah data yang telah terbagi oleh proses Train-Validation split. Model akan dilatih dengan X_train dan y_train. Model yang telah terlatih kemudian diuji performa akurasinya menggunakan X_test dan y_test."
      ]
    },
    {
      "cell_type": "markdown",
      "metadata": {
        "id": "ey4qEoMdmagQ"
      },
      "source": [
        "## 2.1 Logistic Regression"
      ]
    },
    {
      "cell_type": "markdown",
      "metadata": {
        "id": "uaTOGwd_9Sr8"
      },
      "source": [
        "Penjelasan lebih lengkap mengenai penggunaan Logistic Regression dapat dilihat pada https://scikit-learn.org/stable/modules/generated/sklearn.linear_model.LogisticRegression.html"
      ]
    },
    {
      "cell_type": "code",
      "execution_count": 47,
      "metadata": {
        "colab": {
          "base_uri": "https://localhost:8080/"
        },
        "id": "8vahsKNQlsiC",
        "outputId": "36f7a6be-1d19-4da4-ac80-97837c129510"
      },
      "outputs": [
        {
          "output_type": "stream",
          "name": "stdout",
          "text": [
            "Akurasi dengan menggunakan Logistic Regression:  1.0\n"
          ]
        }
      ],
      "source": [
        "from sklearn.linear_model import LogisticRegression\n",
        "from sklearn import metrics\n",
        "\n",
        "lr = LogisticRegression()\n",
        "\n",
        "lr.fit(X_train, y_train)\n",
        "y_pred = lr.predict(X_test)\n",
        "score_lr = metrics.accuracy_score(y_test, y_pred)\n",
        "print(\"Akurasi dengan menggunakan Logistic Regression: \", score_lr)"
      ]
    },
    {
      "cell_type": "code",
      "execution_count": 14,
      "metadata": {
        "id": "ZZTcrN6k5iuy",
        "colab": {
          "base_uri": "https://localhost:8080/",
          "height": 420
        },
        "outputId": "cb512e21-fd4a-44c4-fc61-9a3e86a4e1bb"
      },
      "outputs": [
        {
          "output_type": "stream",
          "name": "stdout",
          "text": [
            "Akurasi Testing NBC: 1.0\n",
            "Akurasi dengan menggunakan Logistic Regression:  1.0\n",
            "Precison :  1.0\n",
            "Recall :  1.0\n",
            "F Score :  1.0\n"
          ]
        },
        {
          "output_type": "stream",
          "name": "stderr",
          "text": [
            "/usr/local/lib/python3.8/dist-packages/sklearn/utils/deprecation.py:87: FutureWarning: Function plot_confusion_matrix is deprecated; Function `plot_confusion_matrix` is deprecated in 1.0 and will be removed in 1.2. Use one of the class methods: ConfusionMatrixDisplay.from_predictions or ConfusionMatrixDisplay.from_estimator.\n",
            "  warnings.warn(msg, category=FutureWarning)\n"
          ]
        },
        {
          "output_type": "display_data",
          "data": {
            "text/plain": [
              "<Figure size 432x288 with 2 Axes>"
            ],
            "image/png": "[encoded data removed]"
          },
          "metadata": {
            "needs_background": "light"
          }
        }
      ],
      "source": [
        "from sklearn.metrics import accuracy_score, plot_confusion_matrix\n",
        "plot_confusion_matrix(lr, X_test, y_test)\n",
        "accuracy = accuracy_score(y_test, y_pred)\n",
        "print('Akurasi Testing NBC:', accuracy)\n",
        "\n",
        "# Ir.fit(X_train, y_train)\n",
        "# y_pred = Ir.predict(X_test)\n",
        "score = metrics.accuracy_score(y_test, y_pred)\n",
        "print(\"Akurasi dengan menggunakan Logistic Regression: \", score)\n",
        "\n",
        "from sklearn.metrics import precision_recall_fscore_support\n",
        "P=precision_recall_fscore_support(y_test, y_pred, average='macro')\n",
        "print(\"Precison : \",P[0])\n",
        "print(\"Recall : \",P[1])\n",
        "print(\"F Score : \",P[2])"
      ]
    },
    {
      "cell_type": "markdown",
      "metadata": {
        "id": "folO6KG2nGak"
      },
      "source": [
        "## 2.2 Support Vector Machine"
      ]
    },
    {
      "cell_type": "markdown",
      "metadata": {
        "id": "gRw2n3sH9MkC"
      },
      "source": [
        "Penjelasan lebih lengkap mengenai penggunaan Support Vector Machine dapat dilihat pada https://scikit-learn.org/stable/modules/generated/sklearn.svm.SVC.html"
      ]
    },
    {
      "cell_type": "code",
      "execution_count": 45,
      "metadata": {
        "colab": {
          "base_uri": "https://localhost:8080/"
        },
        "id": "lQ447Uz4nJ1P",
        "outputId": "a71ddda2-409b-432b-c578-df000e62d786",
        "scrolled": true
      },
      "outputs": [
        {
          "output_type": "stream",
          "name": "stdout",
          "text": [
            "Akurasi dengan menggunakan Support Vector Machine:  0.9333333333333333\n"
          ]
        }
      ],
      "source": [
        "from sklearn.svm import SVC\n",
        "from sklearn import metrics\n",
        "\n",
        "svm = SVC(\n",
        "  kernel = 'rbf',\n",
        "  C = 1,\n",
        "  gamma = 0.01\n",
        ")\n",
        "\n",
        "svm.fit(X_train, y_train)\n",
        "y_pred = svm.predict(X_test)\n",
        "score_svm = metrics.accuracy_score(y_test, y_pred)\n",
        "print(\"Akurasi dengan menggunakan Support Vector Machine: \", score_svm)"
      ]
    },
    {
      "cell_type": "code",
      "execution_count": 16,
      "metadata": {
        "id": "N0DcGuhm5iuz",
        "colab": {
          "base_uri": "https://localhost:8080/",
          "height": 403
        },
        "outputId": "553f9007-fa09-4808-d8cb-9128b6ce7846"
      },
      "outputs": [
        {
          "output_type": "stream",
          "name": "stdout",
          "text": [
            "Akurasi Testing SVM: 0.9333333333333333\n",
            "Precison :  0.9333333333333332\n",
            "Recall :  0.9375\n",
            "F Score :  0.9284802043422733\n"
          ]
        },
        {
          "output_type": "stream",
          "name": "stderr",
          "text": [
            "/usr/local/lib/python3.8/dist-packages/sklearn/utils/deprecation.py:87: FutureWarning: Function plot_confusion_matrix is deprecated; Function `plot_confusion_matrix` is deprecated in 1.0 and will be removed in 1.2. Use one of the class methods: ConfusionMatrixDisplay.from_predictions or ConfusionMatrixDisplay.from_estimator.\n",
            "  warnings.warn(msg, category=FutureWarning)\n"
          ]
        },
        {
          "output_type": "display_data",
          "data": {
            "text/plain": [
              "<Figure size 432x288 with 2 Axes>"
            ],
            "image/png": "[encoded data removed]"
          },
          "metadata": {
            "needs_background": "light"
          }
        }
      ],
      "source": [
        "from sklearn.metrics import accuracy_score, plot_confusion_matrix\n",
        "plot_confusion_matrix(svm, X_test, y_test)\n",
        "accuracy = accuracy_score(y_test, y_pred)\n",
        "print('Akurasi Testing SVM:', accuracy)\n",
        "\n",
        "from sklearn.metrics import precision_recall_fscore_support\n",
        "P=precision_recall_fscore_support(y_test, y_pred, average='macro')\n",
        "print(\"Precison : \",P[0])\n",
        "print(\"Recall : \",P[1])\n",
        "print(\"F Score : \",P[2])"
      ]
    },
    {
      "cell_type": "markdown",
      "metadata": {
        "id": "1ueX9Dl7nxSn"
      },
      "source": [
        "### Hyperparameter SVM"
      ]
    },
    {
      "cell_type": "markdown",
      "metadata": {
        "id": "UfupuqdO8iTg"
      },
      "source": [
        "Saat menggunakan model SVM, beberapa parameter dapat diubah sesuai dengan kebutuhan, antara lain kernel (linear, polynomial, rbf), nilai C, dan nilai Gamma."
      ]
    },
    {
      "cell_type": "code",
      "execution_count": 17,
      "metadata": {
        "colab": {
          "base_uri": "https://localhost:8080/"
        },
        "id": "4c8iLaLSnwQm",
        "outputId": "2429ffd0-2667-4925-9bc4-0c4149d0e4e4"
      },
      "outputs": [
        {
          "output_type": "stream",
          "name": "stdout",
          "text": [
            "Akurasi dengan menggunakan Support Vector Machine Linear Kernel:  0.9777777777777777\n"
          ]
        }
      ],
      "source": [
        "# SVM dengan kernel Linear, nilai parameter C dapat diubah juga.\n",
        "svmLinear = SVC(\n",
        "  kernel = 'linear',\n",
        "      C = 1)\n",
        "\n",
        "svmLinear.fit(X_train, y_train)\n",
        "y_pred = svmLinear.predict(X_test)\n",
        "score = metrics.accuracy_score(y_test, y_pred)\n",
        "print(\"Akurasi dengan menggunakan Support Vector Machine Linear Kernel: \", score)"
      ]
    },
    {
      "cell_type": "code",
      "execution_count": 18,
      "metadata": {
        "id": "G2alo5CQ5iu0",
        "colab": {
          "base_uri": "https://localhost:8080/",
          "height": 403
        },
        "outputId": "7a8c14e5-1d10-4385-9915-7b17bb36edb5"
      },
      "outputs": [
        {
          "output_type": "stream",
          "name": "stdout",
          "text": [
            "Akurasi Testing SVM: 0.9777777777777777\n",
            "Precison :  0.9743589743589745\n",
            "Recall :  0.9791666666666666\n",
            "F Score :  0.9759139784946237\n"
          ]
        },
        {
          "output_type": "stream",
          "name": "stderr",
          "text": [
            "/usr/local/lib/python3.8/dist-packages/sklearn/utils/deprecation.py:87: FutureWarning: Function plot_confusion_matrix is deprecated; Function `plot_confusion_matrix` is deprecated in 1.0 and will be removed in 1.2. Use one of the class methods: ConfusionMatrixDisplay.from_predictions or ConfusionMatrixDisplay.from_estimator.\n",
            "  warnings.warn(msg, category=FutureWarning)\n"
          ]
        },
        {
          "output_type": "display_data",
          "data": {
            "text/plain": [
              "<Figure size 432x288 with 2 Axes>"
            ],
            "image/png": "[encoded data removed]"
          },
          "metadata": {
            "needs_background": "light"
          }
        }
      ],
      "source": [
        "from sklearn.metrics import accuracy_score, plot_confusion_matrix\n",
        "plot_confusion_matrix(svmLinear, X_test, y_test)\n",
        "accuracy = accuracy_score(y_test, y_pred)\n",
        "print('Akurasi Testing SVM:', accuracy)\n",
        "\n",
        "from sklearn.metrics import precision_recall_fscore_support\n",
        "P=precision_recall_fscore_support(y_test, y_pred, average='macro')\n",
        "print(\"Precison : \",P[0])\n",
        "print(\"Recall : \",P[1])\n",
        "print(\"F Score : \",P[2])"
      ]
    },
    {
      "cell_type": "code",
      "execution_count": 19,
      "metadata": {
        "colab": {
          "base_uri": "https://localhost:8080/"
        },
        "id": "ZKLM7cZEoKPY",
        "outputId": "9ed476cc-ff1b-45b9-b584-2c9cccaa1462"
      },
      "outputs": [
        {
          "output_type": "stream",
          "name": "stdout",
          "text": [
            "Akurasi dengan menggunakan Support Vector Machine Polynomial Kernel:  0.26666666666666666\n"
          ]
        }
      ],
      "source": [
        "# SVM dengan kernel polynomial, nilai parameter C, degree, dan gamma dapat diubah juga.\n",
        "svmPoly = SVC(\n",
        "  kernel = 'poly',\n",
        "  C = 1,\n",
        "  gamma = 0.01,\n",
        "  degree = 2\n",
        ")\n",
        "\n",
        "svmPoly.fit(X_train, y_train)\n",
        "y_pred = svmPoly.predict(X_test)\n",
        "score = metrics.accuracy_score(y_test, y_pred)\n",
        "print(\"Akurasi dengan menggunakan Support Vector Machine Polynomial Kernel: \", score)"
      ]
    },
    {
      "cell_type": "code",
      "execution_count": 20,
      "metadata": {
        "id": "u6jxBXZ75iu1",
        "colab": {
          "base_uri": "https://localhost:8080/",
          "height": 351
        },
        "outputId": "464ac97a-ca5c-4854-a713-52b716d9e051"
      },
      "outputs": [
        {
          "output_type": "stream",
          "name": "stdout",
          "text": [
            "Akurasi Testing NBC: 0.26666666666666666\n"
          ]
        },
        {
          "output_type": "stream",
          "name": "stderr",
          "text": [
            "/usr/local/lib/python3.8/dist-packages/sklearn/utils/deprecation.py:87: FutureWarning: Function plot_confusion_matrix is deprecated; Function `plot_confusion_matrix` is deprecated in 1.0 and will be removed in 1.2. Use one of the class methods: ConfusionMatrixDisplay.from_predictions or ConfusionMatrixDisplay.from_estimator.\n",
            "  warnings.warn(msg, category=FutureWarning)\n"
          ]
        },
        {
          "output_type": "display_data",
          "data": {
            "text/plain": [
              "<Figure size 432x288 with 2 Axes>"
            ],
            "image/png": "[encoded data removed]"
          },
          "metadata": {
            "needs_background": "light"
          }
        }
      ],
      "source": [
        "from sklearn.metrics import accuracy_score, plot_confusion_matrix\n",
        "plot_confusion_matrix(svmPoly, X_test, y_test)\n",
        "accuracy = accuracy_score(y_test, y_pred)\n",
        "print('Akurasi Testing NBC:', accuracy)"
      ]
    },
    {
      "cell_type": "code",
      "execution_count": 21,
      "metadata": {
        "colab": {
          "base_uri": "https://localhost:8080/"
        },
        "id": "pnOb-C0toZfE",
        "outputId": "0d44dca8-f67b-4e05-bc17-dc8b28a03e9b"
      },
      "outputs": [
        {
          "output_type": "stream",
          "name": "stdout",
          "text": [
            "Akurasi dengan menggunakan Support Vector Machine RBF Kernel:  0.9333333333333333\n",
            "Precison :  0.9333333333333332\n",
            "Recall :  0.9375\n",
            "F Score :  0.9284802043422733\n"
          ]
        }
      ],
      "source": [
        "# SVM dengan kernel RBF, nilai parameter C dan gamma dapat diubah juga.\n",
        "svmRBF = SVC(\n",
        "  kernel = 'rbf',\n",
        "  C = 1,\n",
        "  gamma = 0.01,\n",
        ")\n",
        "\n",
        "svmRBF.fit(X_train, y_train)\n",
        "y_pred = svmRBF.predict(X_test)\n",
        "score = metrics.accuracy_score(y_test, y_pred)\n",
        "print(\"Akurasi dengan menggunakan Support Vector Machine RBF Kernel: \", score)\n",
        "\n",
        "from sklearn.metrics import precision_recall_fscore_support\n",
        "P=precision_recall_fscore_support(y_test, y_pred, average='macro')\n",
        "print(\"Precison : \",P[0])\n",
        "print(\"Recall : \",P[1])\n",
        "print(\"F Score : \",P[2])"
      ]
    },
    {
      "cell_type": "code",
      "execution_count": 22,
      "metadata": {
        "id": "Yi3r6w-v5iu2",
        "colab": {
          "base_uri": "https://localhost:8080/",
          "height": 403
        },
        "outputId": "c6fb7fba-c490-45b3-a36e-40245a833a78"
      },
      "outputs": [
        {
          "output_type": "stream",
          "name": "stdout",
          "text": [
            "Akurasi Testing NBC: 0.9333333333333333\n",
            "Precison :  0.9333333333333332\n",
            "Recall :  0.9375\n",
            "F Score :  0.9284802043422733\n"
          ]
        },
        {
          "output_type": "stream",
          "name": "stderr",
          "text": [
            "/usr/local/lib/python3.8/dist-packages/sklearn/utils/deprecation.py:87: FutureWarning: Function plot_confusion_matrix is deprecated; Function `plot_confusion_matrix` is deprecated in 1.0 and will be removed in 1.2. Use one of the class methods: ConfusionMatrixDisplay.from_predictions or ConfusionMatrixDisplay.from_estimator.\n",
            "  warnings.warn(msg, category=FutureWarning)\n"
          ]
        },
        {
          "output_type": "display_data",
          "data": {
            "text/plain": [
              "<Figure size 432x288 with 2 Axes>"
            ],
            "image/png": "[encoded data removed]"
          },
          "metadata": {
            "needs_background": "light"
          }
        }
      ],
      "source": [
        "from sklearn.metrics import accuracy_score, plot_confusion_matrix\n",
        "plot_confusion_matrix(svmRBF, X_test, y_test)\n",
        "accuracy = accuracy_score(y_test, y_pred)\n",
        "print('Akurasi Testing NBC:', accuracy)\n",
        "\n",
        "from sklearn.metrics import precision_recall_fscore_support\n",
        "P=precision_recall_fscore_support(y_test, y_pred, average='macro')\n",
        "print(\"Precison : \",P[0])\n",
        "print(\"Recall : \",P[1])\n",
        "print(\"F Score : \",P[2])"
      ]
    },
    {
      "cell_type": "markdown",
      "metadata": {
        "id": "N_eNB3GqnmeT"
      },
      "source": [
        "## 2.3 Decision Tree"
      ]
    },
    {
      "cell_type": "markdown",
      "metadata": {
        "id": "ICUB0M1y9tE9"
      },
      "source": [
        "Penjelasan lebih lengkap mengenai penggunaan Decision Tree dapat dilihat pada https://scikit-learn.org/stable/modules/generated/sklearn.tree.DecisionTreeClassifier.html#sklearn.tree.DecisionTreeClassifier"
      ]
    },
    {
      "cell_type": "code",
      "execution_count": 43,
      "metadata": {
        "colab": {
          "base_uri": "https://localhost:8080/"
        },
        "id": "crUBydu1onDR",
        "outputId": "076caa60-41b5-4d5c-c17a-e9fa59e6ec41"
      },
      "outputs": [
        {
          "output_type": "stream",
          "name": "stdout",
          "text": [
            "Akurasi dengan menggunakan Decision Tree:  1.0\n"
          ]
        }
      ],
      "source": [
        "from sklearn.tree import DecisionTreeClassifier\n",
        "from sklearn import metrics\n",
        "\n",
        "dt = DecisionTreeClassifier(\n",
        "  max_depth = None,\n",
        "  min_samples_split = 2\n",
        ")\n",
        "\n",
        "dt.fit(X_train, y_train)\n",
        "y_pred = dt.predict(X_test)\n",
        "score_dt = metrics.accuracy_score(y_test, y_pred)\n",
        "print(\"Akurasi dengan menggunakan Decision Tree: \", score_dt)"
      ]
    },
    {
      "cell_type": "code",
      "execution_count": 24,
      "metadata": {
        "id": "nA9OgBOl5iu3",
        "colab": {
          "base_uri": "https://localhost:8080/",
          "height": 403
        },
        "outputId": "9d521ad3-cc32-4637-a4a0-9c6bfb42d928"
      },
      "outputs": [
        {
          "output_type": "stream",
          "name": "stdout",
          "text": [
            "Akurasi Testing Decision Tree: 1.0\n",
            "Precison :  1.0\n",
            "Recall :  1.0\n",
            "F Score :  1.0\n"
          ]
        },
        {
          "output_type": "stream",
          "name": "stderr",
          "text": [
            "/usr/local/lib/python3.8/dist-packages/sklearn/utils/deprecation.py:87: FutureWarning: Function plot_confusion_matrix is deprecated; Function `plot_confusion_matrix` is deprecated in 1.0 and will be removed in 1.2. Use one of the class methods: ConfusionMatrixDisplay.from_predictions or ConfusionMatrixDisplay.from_estimator.\n",
            "  warnings.warn(msg, category=FutureWarning)\n"
          ]
        },
        {
          "output_type": "display_data",
          "data": {
            "text/plain": [
              "<Figure size 432x288 with 2 Axes>"
            ],
            "image/png": "[encoded data removed]"
          },
          "metadata": {
            "needs_background": "light"
          }
        }
      ],
      "source": [
        "from sklearn.metrics import accuracy_score, plot_confusion_matrix\n",
        "plot_confusion_matrix(dt, X_test, y_test)\n",
        "accuracy = accuracy_score(y_test, y_pred)\n",
        "print('Akurasi Testing Decision Tree:', accuracy)\n",
        "\n",
        "from sklearn.metrics import precision_recall_fscore_support\n",
        "P=precision_recall_fscore_support(y_test, y_pred, average='macro')\n",
        "print(\"Precison : \",P[0])\n",
        "print(\"Recall : \",P[1])\n",
        "print(\"F Score : \",P[2])"
      ]
    },
    {
      "cell_type": "markdown",
      "metadata": {
        "id": "b51jAnSxpkfX"
      },
      "source": [
        "### Hyperparameter Decision Tree"
      ]
    },
    {
      "cell_type": "markdown",
      "metadata": {
        "id": "6ZIqKskM8yz1"
      },
      "source": [
        "Saat menggunakan model Decision Tree, beberapa parameter dapat diubah sesuai dengan kebutuhan, antara max_depth dan min_samples_split."
      ]
    },
    {
      "cell_type": "code",
      "execution_count": 25,
      "metadata": {
        "colab": {
          "base_uri": "https://localhost:8080/"
        },
        "id": "2khS1rfapS9i",
        "outputId": "a560b1a7-b0e4-41e6-9a27-57caab488d46",
        "scrolled": true
      },
      "outputs": [
        {
          "output_type": "stream",
          "name": "stdout",
          "text": [
            "Akurasi dengan menggunakan Decision Tree:  1.0\n"
          ]
        }
      ],
      "source": [
        "# Decision Tree dengan maximal kedalaman adalah max_depth,\n",
        "# dan minimal jumlah sampel untuk dibentuk leaf baru adalah min_samples_split\n",
        "\n",
        "dt = DecisionTreeClassifier(\n",
        "  max_depth = 130,\n",
        "  min_samples_split = 5\n",
        ")\n",
        "\n",
        "dt.fit(X_train, y_train)\n",
        "y_pred = dt.predict(X_test)\n",
        "score = metrics.accuracy_score(y_test, y_pred)\n",
        "print(\"Akurasi dengan menggunakan Decision Tree: \", score)"
      ]
    },
    {
      "cell_type": "code",
      "execution_count": 26,
      "metadata": {
        "id": "JIroBoij5iu4",
        "colab": {
          "base_uri": "https://localhost:8080/",
          "height": 403
        },
        "outputId": "815b797d-701b-4205-d589-226a62815347"
      },
      "outputs": [
        {
          "output_type": "stream",
          "name": "stdout",
          "text": [
            "Akurasi Testing NBC: 1.0\n",
            "Precison :  1.0\n",
            "Recall :  1.0\n",
            "F Score :  1.0\n"
          ]
        },
        {
          "output_type": "stream",
          "name": "stderr",
          "text": [
            "/usr/local/lib/python3.8/dist-packages/sklearn/utils/deprecation.py:87: FutureWarning: Function plot_confusion_matrix is deprecated; Function `plot_confusion_matrix` is deprecated in 1.0 and will be removed in 1.2. Use one of the class methods: ConfusionMatrixDisplay.from_predictions or ConfusionMatrixDisplay.from_estimator.\n",
            "  warnings.warn(msg, category=FutureWarning)\n"
          ]
        },
        {
          "output_type": "display_data",
          "data": {
            "text/plain": [
              "<Figure size 432x288 with 2 Axes>"
            ],
            "image/png": "[encoded data removed]"
          },
          "metadata": {
            "needs_background": "light"
          }
        }
      ],
      "source": [
        "from sklearn.metrics import accuracy_score, plot_confusion_matrix\n",
        "plot_confusion_matrix(dt, X_test, y_test)\n",
        "accuracy = accuracy_score(y_test, y_pred)\n",
        "print('Akurasi Testing NBC:', accuracy)\n",
        "\n",
        "from sklearn.metrics import precision_recall_fscore_support\n",
        "P=precision_recall_fscore_support(y_test, y_pred, average='macro')\n",
        "print(\"Precison : \",P[0])\n",
        "print(\"Recall : \",P[1])\n",
        "print(\"F Score : \",P[2])"
      ]
    },
    {
      "cell_type": "markdown",
      "metadata": {
        "id": "VRw9nokWqI72"
      },
      "source": [
        "## 2.4 Naive Bayes"
      ]
    },
    {
      "cell_type": "markdown",
      "metadata": {
        "id": "M0yAABum9-77"
      },
      "source": [
        "Penjelasan lebih lengkap mengenai penggunaan Naive Bayes dapat dilihat pada https://scikit-learn.org/stable/modules/generated/sklearn.naive_bayes.BernoulliNB.html#sklearn.naive_bayes.BernoulliNB"
      ]
    },
    {
      "cell_type": "code",
      "execution_count": 41,
      "metadata": {
        "colab": {
          "base_uri": "https://localhost:8080/"
        },
        "id": "8u5I4DVvrRdO",
        "outputId": "47f0580b-bb28-4eb4-d944-887f90d60ed5"
      },
      "outputs": [
        {
          "output_type": "stream",
          "name": "stdout",
          "text": [
            "Akurasi dengan menggunakan Naive Bayes:  0.6666666666666666\n"
          ]
        }
      ],
      "source": [
        "from sklearn import naive_bayes\n",
        "from sklearn import metrics\n",
        "\n",
        "nb = naive_bayes.BernoulliNB()\n",
        "\n",
        "nb.fit(X_train, y_train)\n",
        "y_pred = nb.predict(X_test)\n",
        "score_nb = metrics.accuracy_score(y_test, y_pred)\n",
        "print(\"Akurasi dengan menggunakan Naive Bayes: \", score_nb)"
      ]
    },
    {
      "cell_type": "code",
      "execution_count": 28,
      "metadata": {
        "id": "yCmt_mX45iu5",
        "colab": {
          "base_uri": "https://localhost:8080/",
          "height": 403
        },
        "outputId": "148bca1c-5459-4425-c7af-0432f0b9410b"
      },
      "outputs": [
        {
          "output_type": "stream",
          "name": "stdout",
          "text": [
            "Akurasi Testing NBC: 0.6666666666666666\n",
            "Precison :  0.65\n",
            "Recall :  0.6736111111111112\n",
            "F Score :  0.6098777348777348\n"
          ]
        },
        {
          "output_type": "stream",
          "name": "stderr",
          "text": [
            "/usr/local/lib/python3.8/dist-packages/sklearn/utils/deprecation.py:87: FutureWarning: Function plot_confusion_matrix is deprecated; Function `plot_confusion_matrix` is deprecated in 1.0 and will be removed in 1.2. Use one of the class methods: ConfusionMatrixDisplay.from_predictions or ConfusionMatrixDisplay.from_estimator.\n",
            "  warnings.warn(msg, category=FutureWarning)\n"
          ]
        },
        {
          "output_type": "display_data",
          "data": {
            "text/plain": [
              "<Figure size 432x288 with 2 Axes>"
            ],
            "image/png": "[encoded data removed]"
          },
          "metadata": {
            "needs_background": "light"
          }
        }
      ],
      "source": [
        "from sklearn.metrics import accuracy_score, plot_confusion_matrix\n",
        "plot_confusion_matrix(nb, X_test, y_test)\n",
        "accuracy = accuracy_score(y_test, y_pred)\n",
        "print('Akurasi Testing NBC:', accuracy)\n",
        "\n",
        "from sklearn.metrics import precision_recall_fscore_support\n",
        "P=precision_recall_fscore_support(y_test, y_pred, average='macro')\n",
        "print(\"Precison : \",P[0])\n",
        "print(\"Recall : \",P[1])\n",
        "print(\"F Score : \",P[2])"
      ]
    },
    {
      "cell_type": "markdown",
      "metadata": {
        "id": "z2znVGrzqOFs"
      },
      "source": [
        "## 2.5 K-Nearest Neighbors"
      ]
    },
    {
      "cell_type": "markdown",
      "metadata": {
        "id": "QlVdwzp69-BQ"
      },
      "source": [
        "Penjelasan lebih lengkap mengenai penggunaan K-Nearest Neighbors dapat dilihat pada https://scikit-learn.org/stable/modules/generated/sklearn.neighbors.KNeighborsClassifier.html#sklearn.neighbors.KNeighborsClassifier"
      ]
    },
    {
      "cell_type": "code",
      "execution_count": 39,
      "metadata": {
        "colab": {
          "base_uri": "https://localhost:8080/"
        },
        "id": "abraY0V1uRcC",
        "outputId": "8625d8f1-2328-45f6-c5fc-d927d470e14f"
      },
      "outputs": [
        {
          "output_type": "stream",
          "name": "stdout",
          "text": [
            "Akurasi dengan menggunakan Nearest Neighbor:  0.9777777777777777\n"
          ]
        }
      ],
      "source": [
        "from sklearn.neighbors import KNeighborsClassifier\n",
        "from sklearn import metrics\n",
        "\n",
        "knn = KNeighborsClassifier()\n",
        "\n",
        "knn.fit(X_train, y_train)\n",
        "y_pred = knn.predict(X_test)\n",
        "score_kn = metrics.accuracy_score(y_test, y_pred)\n",
        "print(\"Akurasi dengan menggunakan Nearest Neighbor: \", score_kn)"
      ]
    },
    {
      "cell_type": "code",
      "execution_count": 30,
      "metadata": {
        "id": "JGoHzXE-5iu6",
        "scrolled": true,
        "colab": {
          "base_uri": "https://localhost:8080/",
          "height": 403
        },
        "outputId": "62b8f21d-8e5a-42bb-bc2e-a00f7e6dde52"
      },
      "outputs": [
        {
          "output_type": "stream",
          "name": "stdout",
          "text": [
            "Akurasi Testing K-NN: 0.9777777777777777\n",
            "Precison :  0.9743589743589745\n",
            "Recall :  0.9791666666666666\n",
            "F Score :  0.9759139784946237\n"
          ]
        },
        {
          "output_type": "stream",
          "name": "stderr",
          "text": [
            "/usr/local/lib/python3.8/dist-packages/sklearn/utils/deprecation.py:87: FutureWarning: Function plot_confusion_matrix is deprecated; Function `plot_confusion_matrix` is deprecated in 1.0 and will be removed in 1.2. Use one of the class methods: ConfusionMatrixDisplay.from_predictions or ConfusionMatrixDisplay.from_estimator.\n",
            "  warnings.warn(msg, category=FutureWarning)\n"
          ]
        },
        {
          "output_type": "display_data",
          "data": {
            "text/plain": [
              "<Figure size 432x288 with 2 Axes>"
            ],
            "image/png": "[encoded data removed]"
          },
          "metadata": {
            "needs_background": "light"
          }
        }
      ],
      "source": [
        "from sklearn.metrics import accuracy_score, plot_confusion_matrix\n",
        "\n",
        "\n",
        "plot_confusion_matrix(knn, X_test, y_test)\n",
        "accuracy = accuracy_score(y_test, y_pred)\n",
        "print('Akurasi Testing K-NN:', accuracy)\n",
        "\n",
        "from sklearn.metrics import precision_recall_fscore_support\n",
        "P=precision_recall_fscore_support(y_test, y_pred, average='macro')\n",
        "print(\"Precison : \",P[0])\n",
        "print(\"Recall : \",P[1])\n",
        "print(\"F Score : \",P[2])"
      ]
    },
    {
      "cell_type": "markdown",
      "metadata": {
        "id": "lQxdOlfB5iu6"
      },
      "source": [
        "## 2.6 AdaBoostClassifier"
      ]
    },
    {
      "cell_type": "code",
      "execution_count": 31,
      "metadata": {
        "id": "MX27sbud5iu6"
      },
      "outputs": [],
      "source": [
        "from sklearn.ensemble import AdaBoostClassifier\n",
        "from sklearn import metrics"
      ]
    },
    {
      "cell_type": "code",
      "execution_count": 32,
      "metadata": {
        "id": "FteiNAHE5iu7",
        "outputId": "420a9bac-0f45-4a87-c399-105d61aff618",
        "colab": {
          "base_uri": "https://localhost:8080/"
        }
      },
      "outputs": [
        {
          "output_type": "stream",
          "name": "stdout",
          "text": [
            "Akurasi dengan menggunakan AdaBoostClassifier:  1.0\n"
          ]
        }
      ],
      "source": [
        "ab=AdaBoostClassifier(\n",
        "n_estimators=600,\n",
        "learning_rate=1\n",
        ")\n",
        "ab.fit(X_train, y_train)\n",
        "y_pred = ab.predict(X_test)\n",
        "score = metrics.accuracy_score(y_test, y_pred)\n",
        "print(\"Akurasi dengan menggunakan AdaBoostClassifier: \", score)"
      ]
    },
    {
      "cell_type": "code",
      "execution_count": 33,
      "metadata": {
        "id": "ewPuu-iR5iu7",
        "colab": {
          "base_uri": "https://localhost:8080/",
          "height": 403
        },
        "outputId": "ec9d50d1-b468-4b1c-d2d3-0aa9e4167ff4"
      },
      "outputs": [
        {
          "output_type": "stream",
          "name": "stdout",
          "text": [
            "Akurasi Testing adaBoost: 1.0\n",
            "Precison :  1.0\n",
            "Recall :  1.0\n",
            "F Score :  1.0\n"
          ]
        },
        {
          "output_type": "stream",
          "name": "stderr",
          "text": [
            "/usr/local/lib/python3.8/dist-packages/sklearn/utils/deprecation.py:87: FutureWarning: Function plot_confusion_matrix is deprecated; Function `plot_confusion_matrix` is deprecated in 1.0 and will be removed in 1.2. Use one of the class methods: ConfusionMatrixDisplay.from_predictions or ConfusionMatrixDisplay.from_estimator.\n",
            "  warnings.warn(msg, category=FutureWarning)\n"
          ]
        },
        {
          "output_type": "display_data",
          "data": {
            "text/plain": [
              "<Figure size 432x288 with 2 Axes>"
            ],
            "image/png": "[encoded data removed]"
          },
          "metadata": {
            "needs_background": "light"
          }
        }
      ],
      "source": [
        "from sklearn.metrics import accuracy_score, plot_confusion_matrix\n",
        "plot_confusion_matrix(dt, X_test, y_test)\n",
        "accuracy = accuracy_score(y_test, y_pred)\n",
        "print('Akurasi Testing adaBoost:', accuracy)\n",
        "\n",
        "from sklearn.metrics import precision_recall_fscore_support\n",
        "P=precision_recall_fscore_support(y_test, y_pred, average='macro')\n",
        "print(\"Precison : \",P[0])\n",
        "print(\"Recall : \",P[1])\n",
        "print(\"F Score : \",P[2])"
      ]
    },
    {
      "cell_type": "markdown",
      "metadata": {
        "id": "1ScdAwPN5iu7"
      },
      "source": [
        "## Perbandingan Hasil Klasifikasi Data Pendaftar Untuk Berbagai Metoda Klasifikasi :\n",
        " "
      ]
    },
    {
      "cell_type": "code",
      "execution_count": 48,
      "metadata": {
        "id": "I7fRVGgy5iu7",
        "colab": {
          "base_uri": "https://localhost:8080/"
        },
        "outputId": "8221ad27-1ea7-45a7-dd0a-9092c236f8c5"
      },
      "outputs": [
        {
          "output_type": "stream",
          "name": "stdout",
          "text": [
            "Perbandingan Hasil Klasifikasi Data Pendafttar dari berbagai metoda diatas  :\n",
            "==============================================\n",
            "Klasifikasi Logistic Regression :   1.0\n",
            "Klasifikas Support Vector Machine : 0.9333333333333333\n",
            "Klasifikas Decision Tree : 1.0\n",
            "Klasifikas Naive Bayes :  0.6666666666666666\n",
            "Klasifikas Nearest Neighbor : 0.9777777777777777\n",
            "Klasifikas AdaBoostClassifier : 1.0\n"
          ]
        }
      ],
      "source": [
        "#Lengkapi koding untuk menampilkan di sini semua parameter evaluasi untuk semua model/algoritima klasifikasi di atas\n",
        "#Tampilkan di sini semua parameter evaluasi untuk semua model klasifikasi\n",
        "\n",
        "print(\"Perbandingan Hasil Klasifikasi Data Pendafttar dari berbagai metoda diatas  :\")\n",
        "print(\"==============================================\")\n",
        "print(\"Klasifikasi Logistic Regression :  \",score_lr)\n",
        "print(\"Klasifikas Support Vector Machine :\",score_svm)\n",
        "print(\"Klasifikas Decision Tree :\", score_dt)\n",
        "print(\"Klasifikas Naive Bayes : \",score_nb)\n",
        "print(\"Klasifikas Nearest Neighbor :\",score_kn)\n",
        "print(\"Klasifikas AdaBoostClassifier :\",score)\n",
        "\n"
      ]
    },
    {
      "cell_type": "markdown",
      "metadata": {
        "id": "FMaw8EAD5iu8"
      },
      "source": [
        "---"
      ]
    },
    {
      "cell_type": "markdown",
      "metadata": {
        "id": "y-gg5QAP5iu8"
      },
      "source": [
        "## Pilih satu satu Algortima yang hasil trainingnya terbaik menurut anda dan Menyimpan model dengan pickle  Gunakan untuk anda Deploy dalam bentuk aplikasi streamlit dan upload ke streamlit"
      ]
    },
    {
      "cell_type": "code",
      "execution_count": 49,
      "metadata": {
        "id": "tTCQ4N0V5iu8",
        "colab": {
          "base_uri": "https://localhost:8080/"
        },
        "outputId": "a153d284-f227-41c5-ad33-de049a8c2d37"
      },
      "outputs": [
        {
          "output_type": "execute_result",
          "data": {
            "text/plain": [
              "AdaBoostClassifier()"
            ]
          },
          "metadata": {},
          "execution_count": 49
        }
      ],
      "source": [
        "model_uas = AdaBoostClassifier()\n",
        "model_uas.fit(X,y)"
      ]
    },
    {
      "cell_type": "code",
      "execution_count": 50,
      "metadata": {
        "id": "FfMT-s6f5iu8"
      },
      "outputs": [],
      "source": [
        "#contoh\n",
        "import pickle\n",
        "\n",
        "pickle.dump(model_uas,open('model_uas.pkl','wb'))"
      ]
    },
    {
      "cell_type": "code",
      "execution_count": null,
      "metadata": {
        "id": "f7V_taGM5iu8"
      },
      "outputs": [],
      "source": []
    }
  ],
  "metadata": {
    "colab": {
      "provenance": [],
      "toc_visible": true
    },
    "kernelspec": {
      "display_name": "Python 3 (ipykernel)",
      "language": "python",
      "name": "python3"
    },
    "language_info": {
      "codemirror_mode": {
        "name": "ipython",
        "version": 3
      },
      "file_extension": ".py",
      "mimetype": "text/x-python",
      "name": "python",
      "nbconvert_exporter": "python",
      "pygments_lexer": "ipython3",
      "version": "3.9.7"
    }
  },
  "nbformat": 4,
  "nbformat_minor": 0
}